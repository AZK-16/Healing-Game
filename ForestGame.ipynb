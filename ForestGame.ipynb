{
 "cells": [
  {
   "cell_type": "markdown",
   "metadata": {},
   "source": [
    "## Summary of the Question \n",
    "\n",
    "Write a procedural program which enables you to explore a forest, heal sick animals and collect plants to increase healing points."
   ]
  },
  {
   "cell_type": "markdown",
   "metadata": {},
   "source": [
    "## The Literate Program Development"
   ]
  },
  {
   "cell_type": "markdown",
   "metadata": {},
   "source": [
    "### print\n",
    "\n",
    "#### What it does\n",
    "This method prints the given statement.\n",
    "\n",
    "#### Implementation\n",
    "This method contains the string argument message_to_be_printed, which is then printed using System.out.println."
   ]
  },
  {
   "cell_type": "code",
   "execution_count": 10,
   "metadata": {
    "vscode": {
     "languageId": "java"
    }
   },
   "outputs": [],
   "source": [
    "// Print the given statement \n",
    "\n",
    "public static void print (String message_to_be_printed)\n",
    "    {\n",
    "        System.out.println(message_to_be_printed);\n",
    "\n",
    "        return;\n",
    "    } // END print"
   ]
  },
  {
   "cell_type": "markdown",
   "metadata": {},
   "source": [
    "#### Testing"
   ]
  },
  {
   "cell_type": "code",
   "execution_count": 30,
   "metadata": {
    "vscode": {
     "languageId": "java"
    }
   },
   "outputs": [
    {
     "name": "stdout",
     "output_type": "stream",
     "text": [
      "You rolled a 6\n"
     ]
    }
   ],
   "source": [
    "print (\"You rolled a \" + (1+5));"
   ]
  },
  {
   "cell_type": "markdown",
   "metadata": {},
   "source": [
    "### user_string_input\n",
    "\n",
    "#### What it does\n",
    "This method prints the given String then returns the user's response\n",
    "\n",
    "#### Implementation (how it works)\n",
    "The String to print is passed as an argument and printed after calling the print method. The scanner connects to the keyboard for input and returns the user's input after reading it."
   ]
  },
  {
   "cell_type": "code",
   "execution_count": 11,
   "metadata": {
    "tags": [],
    "vscode": {
     "languageId": "java"
    }
   },
   "outputs": [],
   "source": [
    "// Print given String and return user's response \n",
    "\n",
    "public static String user_string_input (String statement)\n",
    "    {\n",
    "        print(statement);\n",
    "\n",
    "        Scanner scanner = new Scanner(System.in);\n",
    "\n",
    "        return scanner.nextLine();\n",
    "    } // END user_string_input"
   ]
  },
  {
   "cell_type": "markdown",
   "metadata": {},
   "source": [
    "#### Testing"
   ]
  },
  {
   "cell_type": "code",
   "execution_count": 9,
   "metadata": {
    "vscode": {
     "languageId": "java"
    }
   },
   "outputs": [
    {
     "name": "stdout",
     "output_type": "stream",
     "text": [
      "What is your name?\n"
     ]
    },
    {
     "name": "stdout",
     "output_type": "stream",
     "text": [
      " Aafreen\n"
     ]
    },
    {
     "data": {
      "text/plain": [
       "Aafreen"
      ]
     },
     "execution_count": 9,
     "metadata": {},
     "output_type": "execute_result"
    }
   ],
   "source": [
    "user_string_input(\"What is your name?\");"
   ]
  },
  {
   "cell_type": "markdown",
   "metadata": {},
   "source": [
    "### Forest Healing Game Rules\n",
    "\n",
    "#### What it does\n",
    "This method prints the game's rules.\n",
    "\n",
    "#### Implementation\n",
    "The series of statements are printed on separate lines.\n"
   ]
  },
  {
   "cell_type": "code",
   "execution_count": 12,
   "metadata": {
    "vscode": {
     "languageId": "java"
    }
   },
   "outputs": [],
   "source": [
    "// Print the rules of the forest healing game\n",
    "//\n",
    "\n",
    "public static void rules ()\n",
    "{\n",
    "     print(\"Welcome to the Evergreen Forest!\");\n",
    "     print(\"\");\n",
    "     print(\"Rules:\");\n",
    "     print(\"- Whenever you see a wounded animal, check its health status\");\n",
    "     print(\"- You can only heal animals according to the number of healing points you have\");\n",
    "     print(\"- As you collect more plants, your points increase\");\n",
    "     print(\"- As you gain more points, you can treat more animals with more severe injuries\");\n",
    "     print(\"\");\n",
    "    \n",
    "     return;\n",
    "    \n",
    "} // END rules"
   ]
  },
  {
   "cell_type": "markdown",
   "metadata": {},
   "source": [
    "#### Testing"
   ]
  },
  {
   "cell_type": "code",
   "execution_count": 3,
   "metadata": {
    "vscode": {
     "languageId": "java"
    }
   },
   "outputs": [
    {
     "name": "stdout",
     "output_type": "stream",
     "text": [
      "Welcome to the Evergreen Forest!\n",
      "\n",
      "Rules:\n",
      "- Whenever you see a wounded animal, check its health status\n",
      "- You can only heal animals according to the number of healing points you have\n",
      "- As you collect more plants, your points increase\n",
      "- As you gain more points, you can treat more animals with more severe injuries\n",
      "\n"
     ]
    }
   ],
   "source": [
    "rules ();"
   ]
  },
  {
   "cell_type": "markdown",
   "metadata": {},
   "source": [
    "### Healer's Name\n",
    "\n",
    "#### What it does\n",
    "This method asks the healer's name then prints a message to alert the user to an injured animal nearby.\n",
    "\n",
    "#### Implementation\n",
    "A string variable 'name' is declared. A message is printed on the screen asking for the user's name. A scanner connects to the keyboard and reads the input string characters, which are then stored in 'name'. The value stored is used in the next print statements to address the user and print an alert message."
   ]
  },
  {
   "cell_type": "code",
   "execution_count": 13,
   "metadata": {
    "vscode": {
     "languageId": "java"
    }
   },
   "outputs": [],
   "source": [
    "// Ask the healer's name then print a message using their name.\n",
    "//\n",
    "\n",
    "public static String healerName ()\n",
    "{\n",
    "     String name = user_string_input(\"What is your name?\"); \n",
    "    \n",
    "     print(\"\\n\" + \"Thank goodness you're here, \" + name + \"!\");\n",
    "     print(\"You have to heal the injured deer nearby!\");\n",
    "     print(\"\");\n",
    "    \n",
    "     return name;\n",
    "    \n",
    "} // END healerName"
   ]
  },
  {
   "cell_type": "markdown",
   "metadata": {},
   "source": [
    "#### Testing"
   ]
  },
  {
   "cell_type": "code",
   "execution_count": 31,
   "metadata": {
    "vscode": {
     "languageId": "java"
    }
   },
   "outputs": [
    {
     "name": "stdout",
     "output_type": "stream",
     "text": [
      "What is your name?\n"
     ]
    },
    {
     "name": "stdout",
     "output_type": "stream",
     "text": [
      " Aafreen\n"
     ]
    },
    {
     "name": "stdout",
     "output_type": "stream",
     "text": [
      "\n",
      "Thank goodness you're here, Aafreen!\n",
      "You have to heal the injured deer nearby!\n",
      "\n"
     ]
    },
    {
     "data": {
      "text/plain": [
       "Aafreen"
      ]
     },
     "execution_count": 31,
     "metadata": {},
     "output_type": "execute_result"
    }
   ],
   "source": [
    "healerName();"
   ]
  },
  {
   "cell_type": "markdown",
   "metadata": {},
   "source": [
    "### HealingPointsReduced\n",
    "\n",
    "#### What it does\n",
    "This method asks the deducts two points from the initial 20 healing points to heal the deer. The program then alerts the user to this reduction in points.\n",
    "\n",
    "#### Implementation\n",
    "An integer method HealingPointsReduced is declared with a parameter called healing_points, which has been initialised in the main method ForestGameLevel2. During the method call, the integer value 20 is copied to the variable healing_points. The integer variable new_healing_points gets a copy of the value stored in healing_points subtract 2. The print statement alerts the user to the reduction in points by concatenating the string and the value stored in new_healing_points. 'return new_healing_points;' ends the method and returns the value stored in new_healing_points to the original call point.\n"
   ]
  },
  {
   "cell_type": "code",
   "execution_count": 14,
   "metadata": {
    "vscode": {
     "languageId": "java"
    }
   },
   "outputs": [],
   "source": [
    "// Reduce the initial healing points by 2 once the player heals the deer.\n",
    "//\n",
    "\n",
    "public static int HealingPointsReduced (int healing_points)\n",
    "    {\n",
    "        int new_healing_points = healing_points - 2;\n",
    "\n",
    "        print(\"You healed the deer so now your points have reduced from 20 to \" + new_healing_points + \".\");\n",
    "        print(\"\");\n",
    "        \n",
    "        return new_healing_points;\n",
    "    } // END HealingPointsReduced"
   ]
  },
  {
   "cell_type": "markdown",
   "metadata": {},
   "source": [
    "#### Testing"
   ]
  },
  {
   "cell_type": "code",
   "execution_count": 29,
   "metadata": {
    "vscode": {
     "languageId": "java"
    }
   },
   "outputs": [
    {
     "name": "stdout",
     "output_type": "stream",
     "text": [
      "You healed the deer so now your points have reduced from 20 to 18.\n",
      "\n"
     ]
    },
    {
     "data": {
      "text/plain": [
       "18"
      ]
     },
     "execution_count": 29,
     "metadata": {},
     "output_type": "execute_result"
    }
   ],
   "source": [
    "HealingPointsReduced(20);"
   ]
  },
  {
   "cell_type": "markdown",
   "metadata": {},
   "source": [
    "### random_dice_roll\n",
    "\n",
    "#### What it does\n",
    "This method generates a random number from a virtual 6-sided dice.\n",
    "\n",
    "#### Implementation\n",
    "The variable numbers_generated of type Random is declared. Next, a random number out of 6 possible outputs is returned. The +1 is needed so that the dice is like a traditional 6-sided dice with numbers from 1 to 6 instead of 0 to 5."
   ]
  },
  {
   "cell_type": "code",
   "execution_count": 15,
   "metadata": {
    "vscode": {
     "languageId": "java"
    }
   },
   "outputs": [],
   "source": [
    "// Generate a random number from 1 to 6 and return this value\n",
    "\n",
    "public static int random_dice_roll ()\n",
    "    {\n",
    "        Random numbers_generated = new Random ();\n",
    "\n",
    "        return numbers_generated.nextInt(6)+1;\n",
    "    \n",
    "    } // END random_dice_roll"
   ]
  },
  {
   "cell_type": "markdown",
   "metadata": {},
   "source": [
    "#### Testing"
   ]
  },
  {
   "cell_type": "code",
   "execution_count": 19,
   "metadata": {
    "vscode": {
     "languageId": "java"
    }
   },
   "outputs": [
    {
     "name": "stdout",
     "output_type": "stream",
     "text": [
      "4\n",
      "4\n",
      "5\n"
     ]
    }
   ],
   "source": [
    "System.out.println(random_dice_roll());\n",
    "System.out.println(random_dice_roll());\n",
    "System.out.println(random_dice_roll());"
   ]
  },
  {
   "cell_type": "markdown",
   "metadata": {},
   "source": [
    "### roll_dice_to_change_place_message\n",
    "\n",
    "#### What it does\n",
    "This method tells the user to roll a dice and change place depending on the dice roll result\n",
    "\n",
    "#### Implementation\n",
    "This method contains the string argument name to address and tell the user to roll a dice. If the result >= 3, the user goes to the river else they go to the meadow."
   ]
  },
  {
   "cell_type": "code",
   "execution_count": 16,
   "metadata": {
    "vscode": {
     "languageId": "java"
    }
   },
   "outputs": [],
   "source": [
    "// Address the user and tell them to roll a dice\n",
    "// Depending on the result, the user will go to the river or meadow\n",
    "\n",
    "public static void roll_dice_to_change_place_message (String name)\n",
    "    {\n",
    "        print(\"Now go ahead and roll the 6-sided dice, \" + name + \"!\");\n",
    "        print(\"If you roll a number greater than or equal to 3, you will head to the river else you will go to the meadow\");\n",
    "\n",
    "        return;\n",
    "    } // END roll_dice_to_change_place_message"
   ]
  },
  {
   "cell_type": "markdown",
   "metadata": {},
   "source": [
    "#### Testing"
   ]
  },
  {
   "cell_type": "code",
   "execution_count": 60,
   "metadata": {
    "vscode": {
     "languageId": "java"
    }
   },
   "outputs": [
    {
     "name": "stdout",
     "output_type": "stream",
     "text": [
      "Now go ahead and roll the 6-sided dice, Aafreen!\n",
      "If you roll a number greater than or equal to 3, you will head to the river else you will go to the meadow\n"
     ]
    }
   ],
   "source": [
    "roll_dice_to_change_place_message(\"Aafreen\");"
   ]
  },
  {
   "cell_type": "markdown",
   "metadata": {},
   "source": [
    "### changePlace\n",
    "\n",
    "#### What it does\n",
    "This method involves rolling a six-sided dice to determine whether the user will go to the river or the meadow.\n",
    "\n",
    "#### Implementation\n",
    "A message is printed saying that if the user rolls a number greater than or equal to 3, they will go to the river else they go to the meadow. A six-sided virtual dice is declared and rolled. If the dice roll result is greater than or equal to 3, the if branch is executed so that the user is aware of the number they rolled and a message is printed saying that they will go to the river (passed to method print_new_place). If the result is less than 3, the user is notified of the result and a message is printed saying that they are going to the meadow."
   ]
  },
  {
   "cell_type": "code",
   "execution_count": 17,
   "metadata": {
    "vscode": {
     "languageId": "java"
    }
   },
   "outputs": [],
   "source": [
    "// Roll a 6-sided dice - if the result is greater than or equal to 3, go to the river ele go to the meadow\n",
    "\n",
    "public static String changePlace ()\n",
    "    {\n",
    "        int dice_roll = random_dice_roll();\n",
    "        String place = \"\";\n",
    "\n",
    "        if (dice_roll >= 3)\n",
    "        {\n",
    "            place = print_new_place(dice_roll, \"river\");\n",
    "        }\n",
    "\n",
    "        else\n",
    "        {\n",
    "            place = print_new_place(dice_roll, \"meadow\");\n",
    "        }\n",
    "\n",
    "        return place;\n",
    "    } // END changePlace"
   ]
  },
  {
   "cell_type": "markdown",
   "metadata": {},
   "source": [
    "#### Testing"
   ]
  },
  {
   "cell_type": "code",
   "execution_count": 65,
   "metadata": {
    "vscode": {
     "languageId": "java"
    }
   },
   "outputs": [
    {
     "name": "stdout",
     "output_type": "stream",
     "text": [
      "You rolled a 2\n",
      "You're going to the meadow!\n",
      "\n",
      "You rolled a 6\n",
      "You're going to the river!\n",
      "\n",
      "You rolled a 1\n",
      "You're going to the meadow!\n",
      "\n"
     ]
    },
    {
     "data": {
      "text/plain": [
       "meadow"
      ]
     },
     "execution_count": 65,
     "metadata": {},
     "output_type": "execute_result"
    }
   ],
   "source": [
    "changePlace();\n",
    "changePlace();\n",
    "changePlace();"
   ]
  },
  {
   "cell_type": "markdown",
   "metadata": {},
   "source": [
    "### print_new_place\n",
    "\n",
    "#### What it does\n",
    "This method prints the place to which the user will go, which depends on the dice roll result.\n",
    "\n",
    "#### Implementation\n",
    "This method contains the arguments dice_roll and place. A series of print statements, which are concatenations of strings and integer, notify the user of the number they rolled and the place to which they will go."
   ]
  },
  {
   "cell_type": "code",
   "execution_count": 18,
   "metadata": {
    "vscode": {
     "languageId": "java"
    }
   },
   "outputs": [],
   "source": [
    "// Print the place the user will go to according to the dice roll result\n",
    "\n",
    "public static String print_new_place (int dice_roll, String place)\n",
    "    {\n",
    "        print(\"You rolled a \" + dice_roll);\n",
    "        print(\"You're going to the \" + place + \"!\");\n",
    "        print(\"\");\n",
    "\n",
    "        return place;\n",
    "    } // END print_new_place"
   ]
  },
  {
   "cell_type": "markdown",
   "metadata": {},
   "source": [
    "#### Testing"
   ]
  },
  {
   "cell_type": "code",
   "execution_count": 33,
   "metadata": {
    "vscode": {
     "languageId": "java"
    }
   },
   "outputs": [
    {
     "name": "stdout",
     "output_type": "stream",
     "text": [
      "You rolled a 5\n",
      "You're going to the river!\n",
      "\n"
     ]
    },
    {
     "data": {
      "text/plain": [
       "river"
      ]
     },
     "execution_count": 33,
     "metadata": {},
     "output_type": "execute_result"
    }
   ],
   "source": [
    "print_new_place (5, \"river\")"
   ]
  },
  {
   "cell_type": "markdown",
   "metadata": {},
   "source": [
    "### get_lavender_message\n",
    "\n",
    "#### What it does\n",
    "This method alerts the user to a healing plant, their current healing points and the fact that if they roll a 6, their healing points will increase.\n",
    "\n",
    "#### Implementation\n",
    "Using series of print statements, the user is notified of each message. The print statements are concatenations of strings and integers."
   ]
  },
  {
   "cell_type": "code",
   "execution_count": 19,
   "metadata": {
    "vscode": {
     "languageId": "java"
    }
   },
   "outputs": [],
   "source": [
    "// Notify the user to the lavender nearby, which will increase healing points if a 6 is rolled\n",
    "\n",
    "public static void get_lavender_message (String place, int healing_points, int lavender_points)\n",
    "    {\n",
    "        print(\"Look! There's some lavender near the \" + place);\n",
    "        print(\"You have \" + healing_points + \" healing points currently\");\n",
    "        print(\"Roll the 6-sided dice up to 3 times - if you get a 6, you can increase your healing points by \" \n",
    "              + lavender_points + \"!\");\n",
    "        print(\"\");\n",
    "\n",
    "        return;\n",
    "    } // END get_lavender_message"
   ]
  },
  {
   "cell_type": "markdown",
   "metadata": {},
   "source": [
    "#### Testing"
   ]
  },
  {
   "cell_type": "code",
   "execution_count": 38,
   "metadata": {
    "vscode": {
     "languageId": "java"
    }
   },
   "outputs": [
    {
     "name": "stdout",
     "output_type": "stream",
     "text": [
      "Look! There's some lavender near the river\n",
      "You have 20 healing points currently\n",
      "Roll the 6-sided dice up to 3 times - if you get a 6, you can increase your healing points by 3!\n"
     ]
    }
   ],
   "source": [
    "get_lavender_message(\"river\", 20, 3);"
   ]
  },
  {
   "cell_type": "markdown",
   "metadata": {},
   "source": [
    "### get_lavender\n",
    "\n",
    "#### What it does\n",
    "This method rolls a dice up to 3 times then calls a method which prints whether the user rolled a 6 (indicating a successful dice roll to obtain the lavender) or not.\n",
    "\n",
    "#### Implementation\n",
    "This method has integer and boolean arguments dice_roll, success_dice_roll and success_get_plant. A for loop means that the user can roll the dice up to 3 times. If the the result is a 6, the loop breaks else the value of success_get_plant changes from true (as initialised in method ForestGameLevel4) to false. In the end, the arguments success_get_plant and success_dice_roll are passed to alert the user to what they rolled."
   ]
  },
  {
   "cell_type": "code",
   "execution_count": 20,
   "metadata": {
    "vscode": {
     "languageId": "java"
    }
   },
   "outputs": [],
   "source": [
    "// Roll the dice and print the appropriate message (depends on whether a 6 was rolled successfully or not)\n",
    "\n",
    "public static boolean get_lavender (int success_dice_roll, boolean success_get_plant)\n",
    "    {\n",
    "        for (int i = 1; i<=3; i++)\n",
    "            {\n",
    "                success_get_plant = true;\n",
    "                \n",
    "                int dice_roll = random_dice_roll();\n",
    "\n",
    "                print(\"Dice roll result: \" + dice_roll);\n",
    "\n",
    "                if (dice_roll == success_dice_roll)\n",
    "                {\n",
    "                    break;\n",
    "                }\n",
    "\n",
    "                else\n",
    "                {\n",
    "                    success_get_plant = false;\n",
    "                }\n",
    "                \n",
    "            }\n",
    "\n",
    "        print_get_lavender_result(success_get_plant, success_dice_roll);\n",
    "\n",
    "        return success_get_plant;\n",
    "    } // END get_lavender"
   ]
  },
  {
   "cell_type": "markdown",
   "metadata": {},
   "source": [
    "#### Testing"
   ]
  },
  {
   "cell_type": "code",
   "execution_count": 119,
   "metadata": {
    "vscode": {
     "languageId": "java"
    }
   },
   "outputs": [
    {
     "name": "stdout",
     "output_type": "stream",
     "text": [
      "Dice roll result: 4\n",
      "Dice roll result: 4\n",
      "Dice roll result: 6\n",
      "You rolled a 6!\n",
      "\n",
      "Dice roll result: 3\n",
      "Dice roll result: 4\n",
      "Dice roll result: 6\n",
      "You rolled a 6!\n",
      "\n",
      "Dice roll result: 6\n",
      "You rolled a 6!\n"
     ]
    },
    {
     "data": {
      "text/plain": [
       "true"
      ]
     },
     "execution_count": 119,
     "metadata": {},
     "output_type": "execute_result"
    }
   ],
   "source": [
    "get_lavender (6, true);\n",
    "print(\"\");\n",
    "get_lavender (6, true);\n",
    "print(\"\");\n",
    "get_lavender (6, true);"
   ]
  },
  {
   "cell_type": "markdown",
   "metadata": {},
   "source": [
    "### print_get_lavender_result\n",
    "\n",
    "#### What it does\n",
    "This method alerts the user to whether they successfully rolled a 6 or not.\n",
    "\n",
    "#### Implementation\n",
    "This method has integer and boolean arguments success_dice_roll and success_get_plant. If success_get_plant contains the value true, a statement is printed saying that a 6 was rolled else the user is alerted that they didn't roll a 6."
   ]
  },
  {
   "cell_type": "code",
   "execution_count": 21,
   "metadata": {
    "vscode": {
     "languageId": "java"
    }
   },
   "outputs": [],
   "source": [
    "// Notify the user of whether a 6 was rolled or not\n",
    "\n",
    "public static void print_get_lavender_result (boolean success_get_plant, int success_dice_roll)\n",
    "    {\n",
    "        if (success_get_plant)\n",
    "        {\n",
    "            print(\"You rolled a \" + success_dice_roll + \"!\");\n",
    "        }\n",
    "\n",
    "        else\n",
    "        {\n",
    "            print(\"You didn't roll a \" + success_dice_roll + \" so you didn't get the lavender.\");\n",
    "            print(\"Your healing points remain the same.\");\n",
    "        }\n",
    "\n",
    "        return;\n",
    "    } // END print_get_lavender_result"
   ]
  },
  {
   "cell_type": "markdown",
   "metadata": {},
   "source": [
    "#### Testing"
   ]
  },
  {
   "cell_type": "code",
   "execution_count": 107,
   "metadata": {
    "vscode": {
     "languageId": "java"
    }
   },
   "outputs": [
    {
     "name": "stdout",
     "output_type": "stream",
     "text": [
      "You rolled a 6!\n"
     ]
    }
   ],
   "source": [
    "print_get_lavender_result (true, 6);"
   ]
  },
  {
   "cell_type": "code",
   "execution_count": 108,
   "metadata": {
    "vscode": {
     "languageId": "java"
    }
   },
   "outputs": [
    {
     "name": "stdout",
     "output_type": "stream",
     "text": [
      "You didn't roll a 6 so you didn't get the lavender.\n",
      "Your healing points remain the same.\n"
     ]
    }
   ],
   "source": [
    "print_get_lavender_result (false, 6);"
   ]
  },
  {
   "cell_type": "markdown",
   "metadata": {},
   "source": [
    "### healing_point_update\n",
    "\n",
    "#### What it does\n",
    "This method updates the user's healing points if they rolled a 6 just before.\n",
    "\n",
    "#### Implementation\n",
    "This method has integer and boolean arguments dice_roll, success_dice_roll and success_get_plant. If success_get_plant contains the value true, the if branch is executed so the new value of healing_points is the previous value plus lavender_points. The user is then notified of the healing point update through a print statement. However, if success_get_plant is false, the healing points remain the same number."
   ]
  },
  {
   "cell_type": "code",
   "execution_count": 22,
   "metadata": {
    "vscode": {
     "languageId": "java"
    }
   },
   "outputs": [],
   "source": [
    "// If a 6 was rolled, update the user's healing points \n",
    "\n",
    "public static int healing_point_update (boolean success_get_plant, int healing_points, int lavender_points)\n",
    "    {\n",
    "        if (success_get_plant == true)\n",
    "        {\n",
    "            healing_points = healing_points + lavender_points;\n",
    "\n",
    "            print(\"Your healing points have been updated to \" + healing_points + \"! \\n\");\n",
    "        }\n",
    "\n",
    "        return healing_points;\n",
    "    } // END healing_point_update"
   ]
  },
  {
   "cell_type": "markdown",
   "metadata": {},
   "source": [
    "#### Testing"
   ]
  },
  {
   "cell_type": "code",
   "execution_count": 26,
   "metadata": {
    "vscode": {
     "languageId": "java"
    }
   },
   "outputs": [
    {
     "name": "stdout",
     "output_type": "stream",
     "text": [
      "Your healing points have been updated to 21!\n"
     ]
    },
    {
     "data": {
      "text/plain": [
       "21"
      ]
     },
     "execution_count": 26,
     "metadata": {},
     "output_type": "execute_result"
    }
   ],
   "source": [
    "healing_point_update (true, 18, 3)"
   ]
  },
  {
   "cell_type": "code",
   "execution_count": 27,
   "metadata": {
    "vscode": {
     "languageId": "java"
    }
   },
   "outputs": [
    {
     "data": {
      "text/plain": [
       "18"
      ]
     },
     "execution_count": 27,
     "metadata": {},
     "output_type": "execute_result"
    }
   ],
   "source": [
    "healing_point_update (false, 18, 3)"
   ]
  },
  {
   "cell_type": "markdown",
   "metadata": {},
   "source": [
    "### printRounds\n",
    "\n",
    "#### What it does\n",
    "This method prints messages alerting the user to 5 rounds in which the result of the dice roll determines whether they can heal the 5 animals or not.\n",
    "\n",
    "#### Implementation\n",
    "The print method is called multiple times, each holding a string value which contains messages for the user."
   ]
  },
  {
   "cell_type": "code",
   "execution_count": 23,
   "metadata": {
    "vscode": {
     "languageId": "java"
    }
   },
   "outputs": [],
   "source": [
    "// Print messages so that the user is aware of the upcoming healing rounds and its rules\n",
    "\n",
    "public static void printRounds ()\n",
    "    {\n",
    "         print (\"\\n\" + \"You will now go through 5 rounds to try to heal the animals near you!\");\n",
    "         print(\"Roll the dice 3 times per round.\");\n",
    "         print(\"If the sum of the dice roll results is 10 or above, you successfully heal the animal but your healing points decrease by 2.\");\n",
    "         print(\"If the sum is less than 10, your points stay the same. \\n\");\n",
    "\n",
    "        return;\n",
    "    } // END printRounds"
   ]
  },
  {
   "cell_type": "markdown",
   "metadata": {},
   "source": [
    "#### Testing"
   ]
  },
  {
   "cell_type": "code",
   "execution_count": 3,
   "metadata": {
    "vscode": {
     "languageId": "java"
    }
   },
   "outputs": [
    {
     "name": "stdout",
     "output_type": "stream",
     "text": [
      "\n",
      "You will now go through 5 rounds to try to heal the animals near you!\n",
      "Roll the dice 3 times per round.\n",
      "If the sum of the dice roll results is 10 or above, you successfully heal the animal but your healing points decrease by 2.\n",
      "If the sum is less than 10, your points stay the same. \n",
      "\n"
     ]
    }
   ],
   "source": [
    "printRounds();"
   ]
  },
  {
   "cell_type": "markdown",
   "metadata": {},
   "source": [
    "### heal_animals_round\n",
    "\n",
    "#### What it does\n",
    "This method goes through 5 rounds in which the sum of the user's dice roll results determines whether the animal is saved or not.\n",
    "\n",
    "#### Implementation\n",
    "The array animal_list and variable healing_points are passed as arguments. A for loop is used to play the rounds. A message is printed to inform the user which round is being played. The for loop within the first loop allows the dice to be thrown 3 times and keep track of the value stored in sum. At the end of the round, the sum is printed and healing_points_heal_animal_round is called to determine whether the animal is healed or not and in turn, how this affects the healing points."
   ]
  },
  {
   "cell_type": "code",
   "execution_count": 24,
   "metadata": {
    "vscode": {
     "languageId": "java"
    }
   },
   "outputs": [],
   "source": [
    "// Play 5 rounds to try and heal the 5 animals\n",
    "\n",
    "public static int heal_animals_round (String [] animal_list, int healing_points)\n",
    "    {\n",
    "        final int number_of_rounds = 5;\n",
    "            \n",
    "        for (int i = 0; i < number_of_rounds; i++)\n",
    "            {\n",
    "                int sum = 0;\n",
    "                \n",
    "                print(\"ROUND \" + (i+1) + \": Can you heal the \" + animal_list[i] + \"?\");\n",
    "\n",
    "                for (int j = 1; j <= 3; j++)\n",
    "                    {\n",
    "                        sum = roll_dice_3_times(sum);\n",
    "                    }\n",
    "\n",
    "                print(\"The sum of the dice roll results is \" + sum);\n",
    "                \n",
    "                healing_points = healing_points_heal_animal_round(sum, healing_points);\n",
    "            }\n",
    "\n",
    "        return healing_points;\n",
    "        \n",
    "    } // END heal_animals_round"
   ]
  },
  {
   "cell_type": "markdown",
   "metadata": {},
   "source": [
    "#### Testing"
   ]
  },
  {
   "cell_type": "code",
   "execution_count": 17,
   "metadata": {
    "vscode": {
     "languageId": "java"
    }
   },
   "outputs": [
    {
     "name": "stdout",
     "output_type": "stream",
     "text": [
      "ROUND 1: Can you heal the squirrel?\n",
      "You rolled a 5\n",
      "You rolled a 5\n",
      "You rolled a 2\n",
      "The sum of the dice roll results is 12\n",
      "You successfully healed it!\n",
      "You now have 16 healing points. \n",
      "\n",
      "ROUND 2: Can you heal the robin?\n",
      "You rolled a 2\n",
      "You rolled a 5\n",
      "You rolled a 2\n",
      "The sum of the dice roll results is 9\n",
      "You didn't heal successfully it.\n",
      "You still have 16 healing points. \n",
      "\n",
      "ROUND 3: Can you heal the owl?\n",
      "You rolled a 3\n",
      "You rolled a 5\n",
      "You rolled a 5\n",
      "The sum of the dice roll results is 13\n",
      "You successfully healed it!\n",
      "You now have 14 healing points. \n",
      "\n",
      "ROUND 4: Can you heal the hedgehog?\n",
      "You rolled a 1\n",
      "You rolled a 3\n",
      "You rolled a 4\n",
      "The sum of the dice roll results is 8\n",
      "You didn't heal successfully it.\n",
      "You still have 14 healing points. \n",
      "\n",
      "ROUND 5: Can you heal the rabbit?\n",
      "You rolled a 3\n",
      "You rolled a 3\n",
      "You rolled a 5\n",
      "The sum of the dice roll results is 11\n",
      "You successfully healed it!\n",
      "You now have 12 healing points. \n",
      "\n"
     ]
    },
    {
     "data": {
      "text/plain": [
       "12"
      ]
     },
     "execution_count": 17,
     "metadata": {},
     "output_type": "execute_result"
    }
   ],
   "source": [
    "String [] animal_list = {\"squirrel\", \"robin\", \"owl\", \"hedgehog\", \"rabbit\"};\n",
    "\n",
    "heal_animals_round(animal_list, 18)"
   ]
  },
  {
   "cell_type": "markdown",
   "metadata": {},
   "source": [
    "### roll_dice_3_times\n",
    "\n",
    "#### What it does\n",
    "This method rolls a random dice 3 times and tracks the sum of the results.\n",
    "\n",
    "#### Implementation (how it works)\n",
    "The variable sum is passed as an argument. The method random_dice_roll is called to roll a 6-sided dice and store the result in dice_roll. The dice roll result is printed and the sum is tracked using an accumulator such that the current value of sum is equal to the previous value plus the dice roll result."
   ]
  },
  {
   "cell_type": "code",
   "execution_count": 25,
   "metadata": {
    "vscode": {
     "languageId": "java"
    }
   },
   "outputs": [],
   "source": [
    "// Roll the dice 3 times and keep track of the sum\n",
    "\n",
    "public static int roll_dice_3_times (int sum)\n",
    "    {\n",
    "        int dice_roll = random_dice_roll();\n",
    "                        \n",
    "        print(\"You rolled a \" + dice_roll);\n",
    "\n",
    "        sum = sum + dice_roll;\n",
    "\n",
    "        return sum;\n",
    "    } // END roll_dice_3_times"
   ]
  },
  {
   "cell_type": "markdown",
   "metadata": {},
   "source": [
    "#### Testing"
   ]
  },
  {
   "cell_type": "code",
   "execution_count": 20,
   "metadata": {
    "vscode": {
     "languageId": "java"
    }
   },
   "outputs": [
    {
     "name": "stdout",
     "output_type": "stream",
     "text": [
      "You rolled a 4\n",
      "The sum so far is 4\n"
     ]
    }
   ],
   "source": [
    "int sum = roll_dice_3_times(0);\n",
    "\n",
    "print(\"The sum so far is \" + sum);"
   ]
  },
  {
   "cell_type": "markdown",
   "metadata": {},
   "source": [
    "### healing_points_heal_animal_round\n",
    "\n",
    "#### What it does\n",
    "This method alerts the user whether they healed the animal or not and consequently, whether their healing points reduced or not.\n",
    "\n",
    "#### Implementation (how it works)\n",
    "The variables sum and healing_points are passed as arguments. If the sum is greater than or equal to 10, the if branch is followed where the user is informed that they healed the animal and that their points have reduced by 2. Otherwise, the user is informed through print statements that they have not successfully healed the animal and that their points remain the same. The current healing points they have is then returned."
   ]
  },
  {
   "cell_type": "code",
   "execution_count": 26,
   "metadata": {
    "vscode": {
     "languageId": "java"
    }
   },
   "outputs": [],
   "source": [
    "// Depending on the sum's value, print whether the animal is healed or not\n",
    "// and accordingly, whether the healing points have reduced or not\n",
    "\n",
    "public static int healing_points_heal_animal_round (int sum, int healing_points)\n",
    "    {\n",
    "        if (sum >= 10)\n",
    "        {\n",
    "            print(\"You successfully healed it!\");\n",
    "            \n",
    "            final int reduce_points_after_healing = 2;\n",
    "            healing_points = healing_points - reduce_points_after_healing;\n",
    "            \n",
    "            print(\"You now have \" + healing_points + \" healing points. \\n\");\n",
    "        }\n",
    "\n",
    "        else\n",
    "        {\n",
    "            print(\"You didn't heal successfully it.\");\n",
    "            print(\"You still have \" + healing_points + \" healing points. \\n\");\n",
    "        }\n",
    "\n",
    "        return healing_points;\n",
    "    } // END healing_points_heal_animal_round"
   ]
  },
  {
   "cell_type": "markdown",
   "metadata": {},
   "source": [
    "#### Testing"
   ]
  },
  {
   "cell_type": "code",
   "execution_count": 22,
   "metadata": {
    "vscode": {
     "languageId": "java"
    }
   },
   "outputs": [
    {
     "name": "stdout",
     "output_type": "stream",
     "text": [
      "You didn't heal successfully it.\n",
      "You still have 18 healing points. \n",
      "\n"
     ]
    },
    {
     "data": {
      "text/plain": [
       "18"
      ]
     },
     "execution_count": 22,
     "metadata": {},
     "output_type": "execute_result"
    }
   ],
   "source": [
    "// Should inform that animal was unsuccesfully healed and healing points remain the same\n",
    "healing_points_heal_animal_round(8, 18);"
   ]
  },
  {
   "cell_type": "code",
   "execution_count": 23,
   "metadata": {
    "vscode": {
     "languageId": "java"
    }
   },
   "outputs": [
    {
     "name": "stdout",
     "output_type": "stream",
     "text": [
      "You successfully healed it!\n",
      "You now have 16 healing points. \n",
      "\n"
     ]
    },
    {
     "data": {
      "text/plain": [
       "16"
      ]
     },
     "execution_count": 23,
     "metadata": {},
     "output_type": "execute_result"
    }
   ],
   "source": [
    "// Should inform that animal was succesfully healed and healing points have reduced by 2\n",
    "healing_points_heal_animal_round(10, 18);"
   ]
  },
  {
   "cell_type": "code",
   "execution_count": 24,
   "metadata": {
    "vscode": {
     "languageId": "java"
    }
   },
   "outputs": [
    {
     "name": "stdout",
     "output_type": "stream",
     "text": [
      "You successfully healed it!\n",
      "You now have 16 healing points. \n",
      "\n"
     ]
    },
    {
     "data": {
      "text/plain": [
       "16"
      ]
     },
     "execution_count": 24,
     "metadata": {},
     "output_type": "execute_result"
    }
   ],
   "source": [
    "// Should inform that animal was succesfully healed and healing points have reduced by 2\n",
    "healing_points_heal_animal_round(12, 18);"
   ]
  },
  {
   "cell_type": "markdown",
   "metadata": {},
   "source": [
    "### plant\n",
    "\n",
    "#### What it does\n",
    "This record represents a new type called plant.\n",
    "\n",
    "#### Implementation (how it works)\n",
    "The class plant contains two variables: a String variable called name and integer variable points (which represents the number of points that will be added to the user's current number of healing points should the particular plant be obtained)."
   ]
  },
  {
   "cell_type": "code",
   "execution_count": 3,
   "metadata": {
    "vscode": {
     "languageId": "java"
    }
   },
   "outputs": [],
   "source": [
    "class plant\n",
    "    {\n",
    "        String name;\n",
    "        int points;\n",
    "    } // END class plant"
   ]
  },
  {
   "cell_type": "markdown",
   "metadata": {},
   "source": [
    "### rollMysteryBoxDice\n",
    "\n",
    "#### What it does\n",
    "This method prints messages alerting the user to a mystery box and returns the result of a random dice roll.\n",
    "\n",
    "#### Implementation (how it works)\n",
    "The print methods are called to print the messages and the random_dice_roll method is called to roll a 6-sided dice. The result is stored in the integer variable dice_roll then returned."
   ]
  },
  {
   "cell_type": "code",
   "execution_count": 28,
   "metadata": {
    "vscode": {
     "languageId": "java"
    }
   },
   "outputs": [],
   "source": [
    "// Alert user to mystery box and roll dice\n",
    "\n",
    "public static int rollMysteryBoxDice ()\n",
    "    {\n",
    "        print(\"Lucky you! You found a mystery box!\");\n",
    "        print(\"Roll a dice to see which healing plant you get!\");\n",
    "\n",
    "        int dice_roll = random_dice_roll();\n",
    "\n",
    "        return dice_roll;\n",
    "    } // END rollMysteryBoxDice"
   ]
  },
  {
   "cell_type": "markdown",
   "metadata": {},
   "source": [
    "#### Testing"
   ]
  },
  {
   "cell_type": "code",
   "execution_count": 44,
   "metadata": {
    "vscode": {
     "languageId": "java"
    }
   },
   "outputs": [
    {
     "name": "stdout",
     "output_type": "stream",
     "text": [
      "Lucky you! You found a mystery box!\n",
      "Roll a dice to see which healing plant you get!\n"
     ]
    },
    {
     "data": {
      "text/plain": [
       "3"
      ]
     },
     "execution_count": 44,
     "metadata": {},
     "output_type": "execute_result"
    }
   ],
   "source": [
    "rollMysteryBoxDice();"
   ]
  },
  {
   "cell_type": "markdown",
   "metadata": {},
   "source": [
    "### createPlant\n",
    "\n",
    "#### What it does\n",
    "This method creates a new variable of type plant\n",
    "\n",
    "#### Implementation (how it works)\n",
    "Within this method, the new variable is given a general name, p. The storage space for this variable is allocated using new plant();. p is then returned - later on, this record is used to state the plant's name and points."
   ]
  },
  {
   "cell_type": "code",
   "execution_count": 76,
   "metadata": {
    "vscode": {
     "languageId": "java"
    }
   },
   "outputs": [],
   "source": [
    "// Declare new variable of type plant\n",
    "\n",
    "public static plant createPlant ()\n",
    "    {\n",
    "        plant p = new plant ();\n",
    "\n",
    "        return p;\n",
    "    } // END createPlant"
   ]
  },
  {
   "cell_type": "markdown",
   "metadata": {},
   "source": [
    "#### Testing"
   ]
  },
  {
   "cell_type": "code",
   "execution_count": 77,
   "metadata": {
    "vscode": {
     "languageId": "java"
    }
   },
   "outputs": [
    {
     "data": {
      "text/plain": [
       "REPL.$JShell$35D$plant@234ba47d"
      ]
     },
     "execution_count": 77,
     "metadata": {},
     "output_type": "execute_result"
    }
   ],
   "source": [
    "createPlant();"
   ]
  },
  {
   "cell_type": "markdown",
   "metadata": {},
   "source": [
    "### setPlantName\n",
    "\n",
    "#### What it does\n",
    "This method takes in arguments and assigns them to the appropriate fields then returns the updated record.\n",
    "\n",
    "#### Implementation (how it works)\n",
    "The plant variable p and String variable n are set as the arguments. Using dot notation, the name field is accessed and contains the value stored in n after assignment. The updated record (which is locally called p) is returned."
   ]
  },
  {
   "cell_type": "code",
   "execution_count": 29,
   "metadata": {
    "vscode": {
     "languageId": "java"
    }
   },
   "outputs": [],
   "source": [
    "// Set plant name by accessing name field\n",
    "\n",
    "public static plant setPlantName (plant p, String n)\n",
    "    {\n",
    "        p.name = n;\n",
    "\n",
    "        return p;\n",
    "    } // END setPlantName"
   ]
  },
  {
   "cell_type": "markdown",
   "metadata": {},
   "source": [
    "#### Testing"
   ]
  },
  {
   "cell_type": "code",
   "execution_count": 46,
   "metadata": {
    "vscode": {
     "languageId": "java"
    }
   },
   "outputs": [
    {
     "name": "stdout",
     "output_type": "stream",
     "text": [
      "sage\n"
     ]
    }
   ],
   "source": [
    "plant plant2 = new plant ();\n",
    "plant2 = setPlantName(plant2, \"sage\");\n",
    "System.out.println(plant2.name);"
   ]
  },
  {
   "cell_type": "markdown",
   "metadata": {},
   "source": [
    "### setPlantPoints\n",
    "\n",
    "#### What it does\n",
    "This method takes in arguments and assigns them to the appropriate fields then returns the updated record.\n",
    "\n",
    "#### Implementation (how it works)\n",
    "The plant variable p and integer variable i are set as the arguments. Using dot notation, the points field is accessed and contains the value stored in i after assignment. The updated record (which is locally called p) is returned."
   ]
  },
  {
   "cell_type": "code",
   "execution_count": 4,
   "metadata": {
    "vscode": {
     "languageId": "java"
    }
   },
   "outputs": [],
   "source": [
    "// Set plant points by accessing points field\n",
    "\n",
    "public static plant setPlantPoints (plant p, int i)\n",
    "    {\n",
    "        p.points = i;\n",
    "\n",
    "        return p;\n",
    "    } // END setPlantPoints"
   ]
  },
  {
   "cell_type": "markdown",
   "metadata": {},
   "source": [
    "#### Testing"
   ]
  },
  {
   "cell_type": "code",
   "execution_count": 6,
   "metadata": {
    "vscode": {
     "languageId": "java"
    }
   },
   "outputs": [
    {
     "name": "stdout",
     "output_type": "stream",
     "text": [
      "4\n"
     ]
    }
   ],
   "source": [
    "plant plant2 = new plant();\n",
    "plant2 = setPlantPoints(plant2, 4);\n",
    "System.out.println(plant2.points);"
   ]
  },
  {
   "cell_type": "markdown",
   "metadata": {},
   "source": [
    "### getPlantName\n",
    "\n",
    "#### What it does\n",
    "This method retrieves the value stored in the name field.\n",
    "\n",
    "#### Implementation (how it works)\n",
    "The record is passed as an argument then using dot notation, the name field is accessed. The value returned is the value stored in the name field."
   ]
  },
  {
   "cell_type": "code",
   "execution_count": 31,
   "metadata": {
    "vscode": {
     "languageId": "java"
    }
   },
   "outputs": [],
   "source": [
    "// Retrieve plant name\n",
    "\n",
    "public static String getPlantName (plant p)\n",
    "    {\n",
    "        return p.name;\n",
    "    } // END getPlantName"
   ]
  },
  {
   "cell_type": "markdown",
   "metadata": {},
   "source": [
    "#### Testing"
   ]
  },
  {
   "cell_type": "code",
   "execution_count": 56,
   "metadata": {
    "vscode": {
     "languageId": "java"
    }
   },
   "outputs": [
    {
     "name": "stdout",
     "output_type": "stream",
     "text": [
      "sage\n"
     ]
    }
   ],
   "source": [
    "System.out.println(getPlantName(plant2));"
   ]
  },
  {
   "cell_type": "markdown",
   "metadata": {},
   "source": [
    "### getPlantPoints\n",
    "\n",
    "#### What it does\n",
    "This method retrieves the value stored in the points field.\n",
    "\n",
    "#### Implementation (how it works)\n",
    "The record is passed as an argument then using dot notation, the points field is accessed. The value returned is the value stored in the points field."
   ]
  },
  {
   "cell_type": "code",
   "execution_count": 7,
   "metadata": {
    "vscode": {
     "languageId": "java"
    }
   },
   "outputs": [],
   "source": [
    "// Retrieve plant points\n",
    "\n",
    "public static int getPlantPoints (plant p)\n",
    "    {\n",
    "        return p.points;\n",
    "    } // END getPlantPoints"
   ]
  },
  {
   "cell_type": "markdown",
   "metadata": {},
   "source": [
    "#### Testing"
   ]
  },
  {
   "cell_type": "code",
   "execution_count": 8,
   "metadata": {
    "vscode": {
     "languageId": "java"
    }
   },
   "outputs": [
    {
     "name": "stdout",
     "output_type": "stream",
     "text": [
      "4\n"
     ]
    }
   ],
   "source": [
    "System.out.println(getPlantPoints(plant2));"
   ]
  },
  {
   "cell_type": "markdown",
   "metadata": {},
   "source": [
    "### plantInfo\n",
    "\n",
    "#### What it does\n",
    "This method declares new variables of the type plant and fills the record with appropriate values for the name and the number of points your healing points will increase by once the plant is obtained. The healing points are then updated.\n",
    "\n",
    "#### Implementation (how it works)\n",
    "The plant variables plant1, plant2 and plant3 are declared. The method plantRecords is called to fill in the records by accessing the name and points fields using dot notation. The filled records are stored in plant1, plant2 and plant3. The getMysteryPlant method is then called to update the healing points so that it can be returned to the main method."
   ]
  },
  {
   "cell_type": "code",
   "execution_count": 78,
   "metadata": {
    "vscode": {
     "languageId": "java"
    }
   },
   "outputs": [],
   "source": [
    "// Fill 3 plant records and update healing points\n",
    "\n",
    "public static int plantInfo (int roll, int healing_points)\n",
    "    {\n",
    "        plant plant1 = createPlant();\n",
    "        plant plant2 = createPlant();\n",
    "        plant plant3 = createPlant();\n",
    "\n",
    "        plant1 = plantRecords(plant1, \"chamomile\", 3);\n",
    "        plant2 = plantRecords(plant2, \"sage\", 4);\n",
    "        plant3 = plantRecords(plant3, \"yarrow\", 5);\n",
    "\n",
    "        healing_points = getMysteryPlant(roll, plant1, healing_points, plant2, plant3);\n",
    "        \n",
    "        return healing_points;\n",
    "    } // END plantInfo"
   ]
  },
  {
   "cell_type": "markdown",
   "metadata": {},
   "source": [
    "#### Testing"
   ]
  },
  {
   "cell_type": "code",
   "execution_count": 79,
   "metadata": {
    "vscode": {
     "languageId": "java"
    }
   },
   "outputs": [
    {
     "name": "stdout",
     "output_type": "stream",
     "text": [
      "You found some sage!\n",
      "Your new healing points are 19\n"
     ]
    },
    {
     "data": {
      "text/plain": [
       "19"
      ]
     },
     "execution_count": 79,
     "metadata": {},
     "output_type": "execute_result"
    }
   ],
   "source": [
    "plantInfo(4, 15);"
   ]
  },
  {
   "cell_type": "markdown",
   "metadata": {},
   "source": [
    "### plantRecords\n",
    "\n",
    "#### What it does\n",
    "This method fills the records of plant1, plant2 and plant3 then returns the updated records.\n",
    "\n",
    "#### Implementation (how it works)\n",
    "As the function of filling a record is necessary for plant1, plant2 and plant3, plantRecords is a general method with the formal paramters plant p, the String variable name and integer variable points. The appropriate values for each plant are set due to the variables passed within the plantInfo method. The setPlantName and setPlantPoints methods are called to fill the details for the records and the result is stored in the local variable p, which is then returned."
   ]
  },
  {
   "cell_type": "code",
   "execution_count": 34,
   "metadata": {
    "vscode": {
     "languageId": "java"
    }
   },
   "outputs": [],
   "source": [
    "// Set name and points fields for each plant\n",
    "\n",
    "public static plant plantRecords (plant p, String name, int points)\n",
    "    {\n",
    "        p = setPlantName(p, name);\n",
    "        p = setPlantPoints(p, points);\n",
    "\n",
    "        return p;\n",
    "    } // END plantRecords"
   ]
  },
  {
   "cell_type": "markdown",
   "metadata": {},
   "source": [
    "#### Testing"
   ]
  },
  {
   "cell_type": "code",
   "execution_count": 38,
   "metadata": {
    "vscode": {
     "languageId": "java"
    }
   },
   "outputs": [],
   "source": [
    "plant plant1 = new plant ();\n",
    "plant1 = plantRecords(plant1, \"chamomile\", 3);\n",
    "\n",
    "plant plant2 = new plant ();\n",
    "plant2 = plantRecords(plant2, \"sage\", 4);\n",
    "\n",
    "plant plant3 = new plant ();\n",
    "plant3 = plantRecords(plant3, \"yarrow\", 5);"
   ]
  },
  {
   "cell_type": "code",
   "execution_count": 63,
   "metadata": {
    "vscode": {
     "languageId": "java"
    }
   },
   "outputs": [
    {
     "name": "stdout",
     "output_type": "stream",
     "text": [
      "yarrow 5\n"
     ]
    }
   ],
   "source": [
    "System.out.println(getPlantName(plant3) + \" \" + getPlantPoints(plant3));"
   ]
  },
  {
   "cell_type": "markdown",
   "metadata": {},
   "source": [
    "### getMysteryPlant\n",
    "\n",
    "#### What it does\n",
    "This method increases the healing points by different amounts depending on the dice roll result.\n",
    "\n",
    "#### Implementation (how it works)\n",
    "The dice roll result, variables of type plant and healing points are passed as arguments. If the dice roll is less than or equal to 3, the first branch is followed. If the result is 4 or 5, the second branch is followed. If the result is 6, the last branch is followed. The harder it is to obtain a dice roll result, the more points associated with the plant e.g. plant3 has 5 points because it is much harder to roll a 6 than, for instance, plant1 which has 3 points as there's a higher chance of rolling a 1,2 or 3 than exactly 6. In each of the branches, the updatePointsAfterMysteryBox is called to increase the healing points then this updated value is returned."
   ]
  },
  {
   "cell_type": "code",
   "execution_count": 35,
   "metadata": {
    "vscode": {
     "languageId": "java"
    }
   },
   "outputs": [],
   "source": [
    "// Depending on dice roll result, increase healing points by certain amount\n",
    "\n",
    "public static int getMysteryPlant (int roll, plant plant1, int healing_points, plant plant2, plant plant3)\n",
    "    {\n",
    "        if (roll <= 3)\n",
    "        {\n",
    "            healing_points = updatePointsAfterMysteryBox(healing_points, plant1);\n",
    "        }\n",
    "\n",
    "        else if (roll == 4 || roll == 5)\n",
    "        {\n",
    "            healing_points = updatePointsAfterMysteryBox(healing_points, plant2);\n",
    "        }\n",
    "\n",
    "        else\n",
    "        {\n",
    "            healing_points = updatePointsAfterMysteryBox(healing_points, plant3);\n",
    "        }\n",
    "\n",
    "        return healing_points;\n",
    "    } // END getMysteryPlant"
   ]
  },
  {
   "cell_type": "markdown",
   "metadata": {},
   "source": [
    "#### Testing"
   ]
  },
  {
   "cell_type": "code",
   "execution_count": 41,
   "metadata": {
    "vscode": {
     "languageId": "java"
    }
   },
   "outputs": [
    {
     "name": "stdout",
     "output_type": "stream",
     "text": [
      "You found some chamomile!\n",
      "Your new healing points are 18\n",
      "18\n",
      "\n",
      "You found some chamomile!\n",
      "Your new healing points are 18\n",
      "18\n",
      "\n",
      "You found some chamomile!\n",
      "Your new healing points are 18\n",
      "18\n",
      "\n",
      "You found some sage!\n",
      "Your new healing points are 19\n",
      "19\n",
      "\n",
      "You found some sage!\n",
      "Your new healing points are 19\n",
      "19\n",
      "\n",
      "You found some yarrow!\n",
      "Your new healing points are 20\n",
      "20\n",
      "\n"
     ]
    }
   ],
   "source": [
    "for (int i = 1; i <= 6; i++)\n",
    "    {\n",
    "        int points = getMysteryPlant(i, plant1, 15, plant2, plant3);\n",
    "        System.out.println(points + \"\\n\");\n",
    "    }"
   ]
  },
  {
   "cell_type": "markdown",
   "metadata": {},
   "source": [
    "### updatePointsAfterMysteryBox\n",
    "\n",
    "#### What it does\n",
    "This method updates the healing points and prints messages on the plant obtained and the healing points update.\n",
    "\n",
    "#### Implementation (how it works)\n",
    "The integer variable points (healing points) and plant variable p are arguments. Using an accumulator, the points are updated by adding the previous value of points and the result after calling the getPlantPoints method. The print methods are then called to print the messages. The name of the plant is printed after calling the getPlantName method."
   ]
  },
  {
   "cell_type": "code",
   "execution_count": 36,
   "metadata": {
    "vscode": {
     "languageId": "java"
    }
   },
   "outputs": [],
   "source": [
    "// Increase healing points and alert user to the plant they picked up\n",
    "\n",
    "public static int updatePointsAfterMysteryBox (int points, plant p)\n",
    "    {\n",
    "        points =  points + getPlantPoints(p);\n",
    "        print(\"You found some \" + getPlantName(p) + \"!\");\n",
    "        print(\"Your new healing points are \" + (points));\n",
    "\n",
    "        return points;\n",
    "    } // END updatePointsAfterMysteryBox"
   ]
  },
  {
   "cell_type": "markdown",
   "metadata": {},
   "source": [
    "#### Testing"
   ]
  },
  {
   "cell_type": "code",
   "execution_count": 42,
   "metadata": {
    "vscode": {
     "languageId": "java"
    }
   },
   "outputs": [
    {
     "name": "stdout",
     "output_type": "stream",
     "text": [
      "You found some chamomile!\n",
      "Your new healing points are 18\n"
     ]
    },
    {
     "data": {
      "text/plain": [
       "18"
      ]
     },
     "execution_count": 42,
     "metadata": {},
     "output_type": "execute_result"
    }
   ],
   "source": [
    "updatePointsAfterMysteryBox(15, plant1);"
   ]
  },
  {
   "cell_type": "markdown",
   "metadata": {},
   "source": [
    "### animalInput\n",
    "\n",
    "#### What it does\n",
    "This method saves messages including the user's name and favourite mythical creature into a file called fav_creature.txt.\n",
    "\n",
    "#### Implementation (how it works)\n",
    "The PrintWriter and FileWriter functions are used to create a new file called fav_creature.txt. The user's responses to questions about their favourite fantasy animal and name are stored in the arguments fantasy_animal and name respectively. The favAnimalOutput.println function connects favAnimalOutput to fav_creature.txt, allowing the messages to be stored in the file. favAnimalOutput is then closed to close the file then the method returns."
   ]
  },
  {
   "cell_type": "code",
   "execution_count": 4,
   "metadata": {
    "vscode": {
     "languageId": "java"
    }
   },
   "outputs": [],
   "source": [
    "// Store the messages in the file fav_creature.txt\n",
    "\n",
    "public static void animalInput(String fantasy_animal, String name) throws IOException\n",
    "    {\n",
    "        PrintWriter favAnimalOutput = new PrintWriter(new FileWriter(\"fav_creature.txt\"));\n",
    "\n",
    "        favAnimalOutput.println(\"\\nI love \" + fantasy_animal + \"s too!\");\n",
    "        favAnimalOutput.println(\"Surprise! Look ahead, \" + name + \"! There's some legendary \" + fantasy_animal\n",
    "                               + \"s who want to congratulate you for healing the animals!\");\n",
    "\n",
    "        favAnimalOutput.close();\n",
    "        return;\n",
    "    } // END animalInput"
   ]
  },
  {
   "cell_type": "markdown",
   "metadata": {},
   "source": [
    "#### Testing"
   ]
  },
  {
   "cell_type": "code",
   "execution_count": 5,
   "metadata": {
    "vscode": {
     "languageId": "java"
    }
   },
   "outputs": [],
   "source": [
    "animalInput(\"dragon\", \"Aafreen\");"
   ]
  },
  {
   "cell_type": "code",
   "execution_count": null,
   "metadata": {
    "vscode": {
     "languageId": "java"
    }
   },
   "outputs": [],
   "source": [
    "// See test for printFantasyCreatures to check that the messages have\n",
    "// been stored in fav_creature.txt"
   ]
  },
  {
   "cell_type": "markdown",
   "metadata": {},
   "source": [
    "### printFantasyCreatures\n",
    "\n",
    "#### What it does\n",
    "This method accesses the file fav_creature.txt and prints the messages stored within.\n",
    "\n",
    "#### Implementation (how it works)\n",
    "The BufferedReader and FileReader functions are used to access and read fav_creature.txt. A for loop is then entered to print the lines stored within this file - there are 3 lines: 1 for a new line and 2 for the messages. Each line is read using the readLine function then stored in the string variable mythical_creature. The line is then printed onto the screen after calling the print function."
   ]
  },
  {
   "cell_type": "code",
   "execution_count": 68,
   "metadata": {
    "vscode": {
     "languageId": "java"
    }
   },
   "outputs": [],
   "source": [
    "// Print the messages stored in fav_creature.txt\n",
    "\n",
    "public static void printFantasyCreatures () throws IOException\n",
    "    {\n",
    "        final int no_of_file_inputs = 3;\n",
    "\n",
    "        BufferedReader printFavAnimalInput = new BufferedReader(new FileReader(\"fav_creature.txt\"));\n",
    "\n",
    "        for(int i = 1; i <= no_of_file_inputs; i++)\n",
    "            {\n",
    "                String mythical_creature = printFavAnimalInput.readLine();\n",
    "                print(mythical_creature);\n",
    "            }\n",
    "\n",
    "        printFavAnimalInput.close();\n",
    "\n",
    "        return;\n",
    "    } // END printFantasyCreatures"
   ]
  },
  {
   "cell_type": "markdown",
   "metadata": {},
   "source": [
    "#### Testing"
   ]
  },
  {
   "cell_type": "code",
   "execution_count": 69,
   "metadata": {
    "vscode": {
     "languageId": "java"
    }
   },
   "outputs": [
    {
     "name": "stdout",
     "output_type": "stream",
     "text": [
      "\n",
      "I love dragons too!\n",
      "Surprise! Look ahead Aafreen! There's some legendary dragons who want to congratulate you for healing the animals!\n"
     ]
    }
   ],
   "source": [
    "printFantasyCreatures();"
   ]
  },
  {
   "cell_type": "markdown",
   "metadata": {},
   "source": [
    "### ForestGameLevel6\n",
    "\n",
    "#### What it does\n",
    "This method prints the rules of the game, asks for the user's name, prints a message using their name. \n",
    "\n",
    "The user is then alerted to an injured deer and after healing it, their healing points reduce. \n",
    "\n",
    "The user then rolls a 6-sided dice to decide whether they will go to the river or the meadow. \n",
    "\n",
    "The user again rolls a 6-sided dice - if they get a 6, their healing points increase else they stay the same.\n",
    "\n",
    "The user then plays 5 rounds: in each round, a dice is rolled 3 times. If the sum of the dice roll results is 10 or more, the animal is healed and the user's healing points reduce by 2 else the animal is not healed and the points remain the same.\n",
    "\n",
    "The user then encounters a mystery box and rolls a dice to find out which plant they obtained and by how many points their healing level increased.\n",
    "\n",
    "The program then asks the user for their favourite mythical animal and a message based on their preference is printed.\n",
    "\n",
    "#### Implementation\n",
    "This method firstly calls rules to print a series of statements detailing the rules of the game then calls healerName to store the user's name then print a personalised message. \n",
    "\n",
    "Next, the method HealingPointsReduced is called with an argument of 20 so that after healing the deer, the points fall from 20 to 18. \n",
    "\n",
    "Next, the method changePlace is called - if the random number generated is greater than or equal to 3, the user will go to the river else the user goes to the meadow.\n",
    "\n",
    "Afterwards, the methods get_lavender_message and get_lavender are called to alert the user to the healing plant and how to increase their points (the dice roll result must equal 6). If the user rolls a 6, a message is printed saying that they did so and their healing points are updated. If they don't roll a 6, the user is notified of this and their points stay the same.\n",
    "\n",
    "In heal_animals_round, a for loop is used to play 5 rounds and inform the user which animal they are trying to heal (the list of animals is stored in the array animal_list). There's an inner for loop which enables the dice to be rolled 3 times whilst tracking the sum so far. At the end of each round, the print statement informs the sum. The variables sum and healing_points are finally passed to the method healing_points_heal_animal_round to update the points depending on the sum's value. The heal_animals_round finally returns the value of healing_points after the 5 rounds.\n",
    "\n",
    "The rollMysteryBoxDice method is called to determine the value of the dice roll then store this value in dice_roll. To update the healing points, the plantInfo method is called, which leads to setting the records of 3 plants including their individual names and points after calling plantRecords. The user's points are updated after calling the updatePointsAfterMysteryBox and the user is informed of these changes using print statements and 'get' methods to acces the fields of the record class plant.\n",
    "\n",
    "The user_string_input method is called to ask the user their favourite mythical animal. Next, the arguments fantasy_animal and name are passed as arguments to the method animalInput. Within animalInput, messages using the user's name and favourite animal are stored in a file called fav_creature.txt. To read these messages stored in the file, the method printFantasyCreatures is called so that BufferedReader and PrintReader can be used. A for loop is then used to print the messages line by line."
   ]
  },
  {
   "cell_type": "code",
   "execution_count": 71,
   "metadata": {
    "vscode": {
     "languageId": "java"
    }
   },
   "outputs": [],
   "source": [
    "// This method prints the forest game's rules and asks for the user's name \n",
    "\n",
    "// After healing a deer, the healing points reduce from 20 to 18\n",
    "\n",
    "// The user rolls a dice - if the result >= 3, the user is told they are\n",
    "// going to the river else they go to the meadow\n",
    "\n",
    "// The user rolls a dice again, if they get a 6, their points increase else\n",
    "// they stay the same\n",
    "\n",
    "// The user plays 5 rounds and rolls a random dice 3 times per round\n",
    "// If the sum of the dice rolls is 10 or more, the animal is healed and \n",
    "// points reduce by 2 else the animal is not healed and points stay the \n",
    "// same\n",
    "\n",
    "// The user then encounters a mystery box and rolls a dice \n",
    "// According to the dice roll, the user gets a plant which increases\n",
    "// their healing points\n",
    "\n",
    "// The user then inputs their favourite mythical creature\n",
    "// A message is printed using their name and favourite creature\n",
    "\n",
    "public static void ForestGameLevel8 () throws IOException\n",
    "{\n",
    "     String name = \"\";\n",
    "     int healing_points = 20;\n",
    "     String place = \"\";\n",
    "     int dice_roll = 0;\n",
    "     String [] animal_list = {\"squirrel\", \"robin\", \"owl\", \"hedgehog\", \"rabbit\"};\n",
    "\n",
    "     final int lavender_points = 3;\n",
    "     final int success_dice_roll = 6;\n",
    "     boolean success_get_plant = true;\n",
    "    \n",
    "     rules();\n",
    "     name = healerName();\n",
    "    \n",
    "     healing_points = HealingPointsReduced(healing_points);\n",
    "    \n",
    "     roll_dice_to_change_place_message(name);\n",
    "     place = changePlace();\n",
    "    \n",
    "     get_lavender_message(place, healing_points, lavender_points);\n",
    "     success_get_plant = get_lavender(success_dice_roll, success_get_plant);\n",
    "     healing_points = healing_point_update(success_get_plant, healing_points, lavender_points);\n",
    "\n",
    "     printRounds();\n",
    "     healing_points = heal_animals_round(animal_list, healing_points);\n",
    "\n",
    "     dice_roll = rollMysteryBoxDice();\n",
    "     healing_points = plantInfo(dice_roll, healing_points);\n",
    "\n",
    "     String fantasy_animal = user_string_input(\"\\nWhat is your favourite mythical creature?\");\n",
    "     animalInput(fantasy_animal, name);\n",
    "     printFantasyCreatures();\n",
    "     \n",
    "     return;\n",
    "    \n",
    "} // END ForestGameLevel8"
   ]
  },
  {
   "cell_type": "code",
   "execution_count": 58,
   "metadata": {
    "vscode": {
     "languageId": "java"
    }
   },
   "outputs": [
    {
     "name": "stdout",
     "output_type": "stream",
     "text": [
      "Welcome to the Evergreen Forest!\n",
      "\n",
      "Rules:\n",
      "- Whenever you see a wounded animal, check its health status\n",
      "- You can only heal animals according to the number of healing points you have\n",
      "- As you collect more plants, your points increase\n",
      "- As you gain more points, you can treat more animals with more severe injuries\n",
      "\n",
      "What is your name?\n"
     ]
    },
    {
     "name": "stdout",
     "output_type": "stream",
     "text": [
      " Aafreen\n"
     ]
    },
    {
     "name": "stdout",
     "output_type": "stream",
     "text": [
      "\n",
      "Thank goodness you're here, Aafreen!\n",
      "You have to heal the injured deer nearby!\n",
      "\n",
      "You healed the deer so now your points have reduced from 20 to 18.\n",
      "\n",
      "Now go ahead and roll the 6-sided dice, Aafreen!\n",
      "If you roll a number greater than or equal to 3, you will head to the river else you will go to the meadow\n",
      "You rolled a 1\n",
      "You're going to the meadow!\n",
      "\n",
      "Look! There's some lavender near the meadow\n",
      "You have 18 healing points currently\n",
      "Roll the 6-sided dice up to 3 times - if you get a 6, you can increase your healing points by 3!\n",
      "\n",
      "Dice roll result: 6\n",
      "You rolled a 6!\n",
      "Your healing points have been updated to 21! \n",
      "\n",
      "\n",
      "You will now go through 5 rounds to try to heal the animals near you!\n",
      "Roll the dice 3 times per round.\n",
      "If the sum of the dice roll results is 10 or above, you successfully heal the animal but your healing points decrease by 2.\n",
      "If the sum is less than 10, your points stay the same. \n",
      "\n",
      "ROUND 1: Can you heal the squirrel?\n",
      "You rolled a 6\n",
      "You rolled a 1\n",
      "You rolled a 6\n",
      "The sum of the dice roll results is 13\n",
      "You successfully healed it!\n",
      "You now have 19 healing points. \n",
      "\n",
      "ROUND 2: Can you heal the robin?\n",
      "You rolled a 4\n",
      "You rolled a 2\n",
      "You rolled a 1\n",
      "The sum of the dice roll results is 7\n",
      "You didn't heal successfully it.\n",
      "You still have 19 healing points. \n",
      "\n",
      "ROUND 3: Can you heal the owl?\n",
      "You rolled a 6\n",
      "You rolled a 4\n",
      "You rolled a 6\n",
      "The sum of the dice roll results is 16\n",
      "You successfully healed it!\n",
      "You now have 17 healing points. \n",
      "\n",
      "ROUND 4: Can you heal the hedgehog?\n",
      "You rolled a 2\n",
      "You rolled a 4\n",
      "You rolled a 6\n",
      "The sum of the dice roll results is 12\n",
      "You successfully healed it!\n",
      "You now have 15 healing points. \n",
      "\n",
      "ROUND 5: Can you heal the rabbit?\n",
      "You rolled a 6\n",
      "You rolled a 2\n",
      "You rolled a 2\n",
      "The sum of the dice roll results is 10\n",
      "You successfully healed it!\n",
      "You now have 13 healing points. \n",
      "\n",
      "Lucky you! You found a mystery box!\n",
      "Roll a dice to see which healing plant you get!\n",
      "You found some yarrow!\n",
      "Your new healing points are 18\n",
      "\n",
      "What is your favourite mythical creature?\n"
     ]
    },
    {
     "name": "stdout",
     "output_type": "stream",
     "text": [
      " unicorn\n"
     ]
    },
    {
     "name": "stdout",
     "output_type": "stream",
     "text": [
      "\n",
      "I love unicorns too!\n",
      "Surprise! Look ahead Aafreen! There's some legendary unicorns who want to congratulate you for healing the animals!\n"
     ]
    }
   ],
   "source": [
    "ForestGameLevel8();"
   ]
  },
  {
   "cell_type": "markdown",
   "metadata": {},
   "source": [
    "### Running the program\n",
    "Run the following call to run the full program."
   ]
  },
  {
   "cell_type": "code",
   "execution_count": 72,
   "metadata": {
    "vscode": {
     "languageId": "java"
    }
   },
   "outputs": [
    {
     "name": "stdout",
     "output_type": "stream",
     "text": [
      "Welcome to the Evergreen Forest!\n",
      "\n",
      "Rules:\n",
      "- Whenever you see a wounded animal, check its health status\n",
      "- You can only heal animals according to the number of healing points you have\n",
      "- As you collect more plants, your points increase\n",
      "- As you gain more points, you can treat more animals with more severe injuries\n",
      "\n",
      "What is your name?\n"
     ]
    },
    {
     "name": "stdout",
     "output_type": "stream",
     "text": [
      " Aafreen\n"
     ]
    },
    {
     "name": "stdout",
     "output_type": "stream",
     "text": [
      "\n",
      "Thank goodness you're here, Aafreen!\n",
      "You have to heal the injured deer nearby!\n",
      "\n",
      "You healed the deer so now your points have reduced from 20 to 18.\n",
      "\n",
      "Now go ahead and roll the 6-sided dice, Aafreen!\n",
      "If you roll a number greater than or equal to 3, you will head to the river else you will go to the meadow\n",
      "You rolled a 1\n",
      "You're going to the meadow!\n",
      "\n",
      "Look! There's some lavender near the meadow\n",
      "You have 18 healing points currently\n",
      "Roll the 6-sided dice up to 3 times - if you get a 6, you can increase your healing points by 3!\n",
      "\n",
      "Dice roll result: 6\n",
      "You rolled a 6!\n",
      "Your healing points have been updated to 21! \n",
      "\n",
      "\n",
      "You will now go through 5 rounds to try to heal the animals near you!\n",
      "Roll the dice 3 times per round.\n",
      "If the sum of the dice roll results is 10 or above, you successfully heal the animal but your healing points decrease by 2.\n",
      "If the sum is less than 10, your points stay the same. \n",
      "\n",
      "ROUND 1: Can you heal the squirrel?\n",
      "You rolled a 2\n",
      "You rolled a 3\n",
      "You rolled a 5\n",
      "The sum of the dice roll results is 10\n",
      "You successfully healed it!\n",
      "You now have 19 healing points. \n",
      "\n",
      "ROUND 2: Can you heal the robin?\n",
      "You rolled a 3\n",
      "You rolled a 4\n",
      "You rolled a 3\n",
      "The sum of the dice roll results is 10\n",
      "You successfully healed it!\n",
      "You now have 17 healing points. \n",
      "\n",
      "ROUND 3: Can you heal the owl?\n",
      "You rolled a 2\n",
      "You rolled a 6\n",
      "You rolled a 1\n",
      "The sum of the dice roll results is 9\n",
      "You didn't heal successfully it.\n",
      "You still have 17 healing points. \n",
      "\n",
      "ROUND 4: Can you heal the hedgehog?\n",
      "You rolled a 1\n",
      "You rolled a 5\n",
      "You rolled a 5\n",
      "The sum of the dice roll results is 11\n",
      "You successfully healed it!\n",
      "You now have 15 healing points. \n",
      "\n",
      "ROUND 5: Can you heal the rabbit?\n",
      "You rolled a 2\n",
      "You rolled a 6\n",
      "You rolled a 3\n",
      "The sum of the dice roll results is 11\n",
      "You successfully healed it!\n",
      "You now have 13 healing points. \n",
      "\n",
      "Lucky you! You found a mystery box!\n",
      "Roll a dice to see which healing plant you get!\n",
      "You found some chamomile!\n",
      "Your new healing points are 16\n",
      "\n",
      "What is your favourite mythical creature?\n"
     ]
    },
    {
     "name": "stdout",
     "output_type": "stream",
     "text": [
      " unicorn\n"
     ]
    },
    {
     "name": "stdout",
     "output_type": "stream",
     "text": [
      "\n",
      "I love unicorns too!\n",
      "Surprise! Look ahead, Aafreen! There's some legendary unicorns who want to congratulate you for healing the animals!\n"
     ]
    }
   ],
   "source": [
    "ForestGameLevel8 ();"
   ]
  },
  {
   "cell_type": "markdown",
   "metadata": {},
   "source": [
    "## The Complete Program "
   ]
  },
  {
   "cell_type": "code",
   "execution_count": 1,
   "metadata": {
    "vscode": {
     "languageId": "java"
    }
   },
   "outputs": [],
   "source": [
    "/*************************************************\n",
    "  @author    Aafreen Kashif\n",
    "  @SID       230264106\n",
    "  @date      11 December 2023\n",
    "  @version   1\n",
    "\n",
    "    Miniproject Level 8\n",
    "\n",
    "    A forest game program that interacts with the\n",
    "    user and increases or decreases healing points\n",
    "    based on the number of animals successfully\n",
    "    healed and plants collected.\n",
    "\n",
    "\n",
    "    ADT accessor methods:\n",
    "    - createPlant\n",
    "    - setPlantName\n",
    "    - setPlantPoints\n",
    "    - getPlantName\n",
    "    - getPlantPoints\n",
    "    \n",
    "**************************************************/\n",
    "\n",
    "import java.util.Scanner; \n",
    "import java.util.Random; \n",
    "\n",
    "class plant\n",
    "    {\n",
    "        String name;\n",
    "        int points;\n",
    "    } // END class plant\n",
    "\n",
    "class HealingGame\n",
    "{\n",
    "    public static void main (String [] a) throws IOException\n",
    "    {\n",
    "        ForestGameLevel8();\n",
    "        \n",
    "        return;\n",
    "        \n",
    "    } // END main\n",
    "\n",
    "    \n",
    "\n",
    "    \n",
    "    // Print the given statement \n",
    "\n",
    "    public static void print (String message_to_be_printed)\n",
    "        {\n",
    "            System.out.println(message_to_be_printed);\n",
    "\n",
    "            return;\n",
    "        } // END print\n",
    "\n",
    "\n",
    "    \n",
    "\n",
    "    // Print given String and return user's response \n",
    "\n",
    "    public static String user_string_input (String statement)\n",
    "        {\n",
    "            print(statement);\n",
    "    \n",
    "            Scanner scanner = new Scanner(System.in);\n",
    "    \n",
    "            return scanner.nextLine();\n",
    "        } // END user_string_input\n",
    "\n",
    "    \n",
    "\n",
    "    \n",
    "    // Print the rules of the forest healing game\n",
    "    //\n",
    "    \n",
    "    public static void rules ()\n",
    "    {\n",
    "         print(\"Welcome to the Evergreen Forest!\");\n",
    "         print(\"\");\n",
    "         print(\"Rules:\");\n",
    "         print(\"- Whenever you see a wounded animal, check its health status\");\n",
    "         print(\"- You can only heal animals according to the number of healing points you have\");\n",
    "         print(\"- As you collect more plants, your points increase\");\n",
    "         print(\"- As you gain more points, you can treat more animals with more severe injuries\");\n",
    "         print(\"\");\n",
    "        \n",
    "         return;\n",
    "        \n",
    "    } // END rules\n",
    "\n",
    "\n",
    "    \n",
    "    \n",
    "    // Ask the healer's name then print a message using their name.\n",
    "    //\n",
    "    \n",
    "    public static String healerName ()\n",
    "    {\n",
    "         String name = user_string_input(\"What is your name?\");\n",
    "        \n",
    "         print(\"\\n\" + \"Thank goodness you're here, \" + name + \"!\");\n",
    "         print(\"You have to heal the injured deer nearby!\");\n",
    "         print(\"\");\n",
    "        \n",
    "         return name;\n",
    "        \n",
    "    } // END healerName\n",
    "\n",
    "\n",
    "    \n",
    "    // Reduce the initial healing points by 2 once the player heals the deer.\n",
    "    //\n",
    "    \n",
    "    public static int HealingPointsReduced (int healing_points)\n",
    "        {\n",
    "            int new_healing_points = healing_points - 2;\n",
    "    \n",
    "            print(\"You healed the deer so now your points have reduced from 20 to \" + new_healing_points + \".\");\n",
    "            print(\"\");\n",
    "            \n",
    "            return new_healing_points;\n",
    "        } // END HealingPointsReduced\n",
    "\n",
    "\n",
    "\n",
    "    \n",
    "    // Generate a random number from 1 to 6 and return this value\n",
    "    \n",
    "    public static int random_dice_roll ()\n",
    "        {\n",
    "            Random numbers_generated = new Random ();\n",
    "    \n",
    "            return numbers_generated.nextInt(6)+1;\n",
    "        \n",
    "        } // END random_dice_roll\n",
    "\n",
    "\n",
    "    \n",
    "    // Address the user and tell them to roll a dice\n",
    "    // Depending on the result, the user will go to the river or meadow\n",
    "    \n",
    "    public static void roll_dice_to_change_place_message (String name)\n",
    "        {\n",
    "            print(\"Now go ahead and roll the 6-sided dice, \" + name + \"!\");\n",
    "            print(\"If you roll a number greater than or equal to 3, you will head to the river else you will go to the meadow\");\n",
    "    \n",
    "            return;\n",
    "        } // END roll_dice_to_change_place_message\n",
    "\n",
    "\n",
    "\n",
    "    // Roll a 6-sided dice - if the result is greater than or equal to 3, go to the river ele go to the meadow\n",
    "    \n",
    "    public static String changePlace ()\n",
    "        {\n",
    "            int dice_roll = random_dice_roll();\n",
    "            String place = \"\";\n",
    "    \n",
    "            if (dice_roll >= 3)\n",
    "            {\n",
    "                place = print_new_place(dice_roll, \"river\");\n",
    "            }\n",
    "    \n",
    "            else\n",
    "            {\n",
    "                place = print_new_place(dice_roll, \"meadow\");\n",
    "            }\n",
    "    \n",
    "            return place;\n",
    "        } // END changePlace\n",
    "\n",
    "\n",
    "\n",
    "    // Print the place the user will go to according to the dice roll result\n",
    "    \n",
    "    public static String print_new_place (int dice_roll, String place)\n",
    "        {\n",
    "            print(\"You rolled a \" + dice_roll);\n",
    "            print(\"You're going to the \" + place + \"!\");\n",
    "            print(\"\");\n",
    "    \n",
    "            return place;\n",
    "        } // END print_new_place\n",
    "\n",
    "\n",
    "\n",
    "    // Notify the user to the lavender nearby, which will increase healing points if a 6 is rolled\n",
    "    \n",
    "    public static void get_lavender_message (String place, int healing_points, int lavender_points)\n",
    "        {\n",
    "            print(\"Look! There's some lavender near the \" + place);\n",
    "            print(\"You have \" + healing_points + \" healing points currently\");\n",
    "            print(\"Roll the 6-sided dice up to 3 times - if you get a 6, you can increase your healing points by \" \n",
    "                  + lavender_points + \"!\");\n",
    "            print(\"\");\n",
    "    \n",
    "            return;\n",
    "        } // END get_lavender_message\n",
    "\n",
    "\n",
    "\n",
    "    // Roll the dice and print the appropriate message (depends on whether a 6 was rolled successfully or not)\n",
    "\n",
    "    public static boolean get_lavender (int success_dice_roll, boolean success_get_plant)\n",
    "        {\n",
    "            for (int i = 1; i<=3; i++)\n",
    "                {\n",
    "                    success_get_plant = true;\n",
    "                    \n",
    "                    int dice_roll = random_dice_roll();\n",
    "\n",
    "                    print(\"Dice roll result: \" + dice_roll);\n",
    "    \n",
    "                    if (dice_roll == success_dice_roll)\n",
    "                    {\n",
    "                        break;\n",
    "                    }\n",
    "    \n",
    "                    else\n",
    "                    {\n",
    "                        success_get_plant = false;\n",
    "                    }\n",
    "                    \n",
    "                }\n",
    "    \n",
    "            print_get_lavender_result(success_get_plant, success_dice_roll);\n",
    "    \n",
    "            return success_get_plant;\n",
    "        } // END get_lavender\n",
    "\n",
    "\n",
    "\n",
    "    // Notify the user of whether a 6 was rolled or not\n",
    "\n",
    "    public static void print_get_lavender_result (boolean success_get_plant, int success_dice_roll)\n",
    "        {\n",
    "            if (success_get_plant)\n",
    "            {\n",
    "                print(\"You rolled a \" + success_dice_roll + \"!\");\n",
    "            }\n",
    "    \n",
    "            else\n",
    "            {\n",
    "                print(\"You didn't roll a \" + success_dice_roll + \" so you didn't get the lavender.\");\n",
    "                print(\"Your healing points remain the same.\");\n",
    "            }\n",
    "    \n",
    "            return;\n",
    "        } // END print_get_lavender_result\n",
    "\n",
    "\n",
    "    \n",
    "\n",
    "    // If a 6 was rolled, update the user's healing points \n",
    "\n",
    "    public static int healing_point_update (boolean success_get_plant, int healing_points, int lavender_points)\n",
    "        {\n",
    "            if (success_get_plant == true)\n",
    "            {\n",
    "                healing_points = healing_points + lavender_points;\n",
    "    \n",
    "                print(\"Your healing points have been updated to \" + healing_points + \"!\");\n",
    "            }\n",
    "    \n",
    "            return healing_points;\n",
    "        } // END healing_point_update\n",
    "\n",
    "\n",
    "\n",
    "    \n",
    "        // Print messages so that the user is aware of the upcoming healing rounds and its rules\n",
    "\n",
    "        public static void printRounds ()\n",
    "            {\n",
    "                 print (\"\\n\" + \"You will now go through 5 rounds to try to heal the animals near you!\");\n",
    "                 print(\"Roll the dice 3 times per round.\");\n",
    "                 print(\"If the sum of the dice roll results is 10 or above, you successfully heal the animal but your healing points decrease by 2.\");\n",
    "                 print(\"If the sum is less than 10, your points stay the same. \\n\");\n",
    "        \n",
    "                return;\n",
    "            } // END printRounds\n",
    "\n",
    "\n",
    "\n",
    "    \n",
    "        // Play 5 rounds to try and heal the 5 animals\n",
    "\n",
    "        public static int heal_animals_round (String [] animal_list, int healing_points)\n",
    "            {\n",
    "                final int number_of_rounds = 5;\n",
    "                    \n",
    "                for (int i = 0; i < number_of_rounds; i++)\n",
    "                    {\n",
    "                        int sum = 0;\n",
    "                        \n",
    "                        print(\"ROUND \" + (i+1) + \": Can you heal the \" + animal_list[i] + \"?\");\n",
    "        \n",
    "                        for (int j = 1; j <= 3; j++)\n",
    "                            {\n",
    "                                sum = roll_dice_3_times(sum);\n",
    "                            }\n",
    "        \n",
    "                        print(\"The sum of the dice roll results is \" + sum);\n",
    "                        \n",
    "                        healing_points = healing_points_heal_animal_round(sum, healing_points);\n",
    "                    }\n",
    "        \n",
    "                return healing_points;\n",
    "        \n",
    "            } // END heal_animals_round\n",
    "\n",
    "\n",
    "    \n",
    "\n",
    "        // Roll the dice 3 times and keep track of the sum\n",
    "\n",
    "        public static int roll_dice_3_times (int sum)\n",
    "            {\n",
    "                int dice_roll = random_dice_roll();\n",
    "                                \n",
    "                print(\"You rolled a \" + dice_roll);\n",
    "        \n",
    "                sum = sum + dice_roll;\n",
    "        \n",
    "                return sum;\n",
    "            } // END roll_dice_3_times\n",
    "\n",
    "\n",
    "    \n",
    "\n",
    "        // Depending on the sum's value, print whether the animal is healed or not\n",
    "        // and accordingly, whether the healing points have reduced or not\n",
    "        \n",
    "        public static int healing_points_heal_animal_round (int sum, int healing_points)\n",
    "            {\n",
    "                if (sum >= 10)\n",
    "                {\n",
    "                    print(\"You successfully healed it!\");\n",
    "                    \n",
    "                    final int reduce_points_after_healing = 2;\n",
    "                    healing_points = healing_points - reduce_points_after_healing;\n",
    "                    \n",
    "                    print(\"You now have \" + healing_points + \" healing points. \\n\");\n",
    "                }\n",
    "        \n",
    "                else\n",
    "                {\n",
    "                    print(\"You didn't heal successfully it.\");\n",
    "                    print(\"You still have \" + healing_points + \" healing points. \\n\");\n",
    "                }\n",
    "        \n",
    "                return healing_points;\n",
    "            } // END healing_points_heal_animal_round\n",
    "\n",
    "\n",
    "\n",
    "\n",
    "        // Alert user to mystery box and roll dice\n",
    "\n",
    "        public static int rollMysteryBoxDice ()\n",
    "            {\n",
    "                print(\"Lucky you! You found a mystery box!\");\n",
    "                print(\"Roll a dice to see which healing plant you get!\");\n",
    "        \n",
    "                int dice_roll = random_dice_roll();\n",
    "        \n",
    "                return dice_roll;\n",
    "            } // END rollMysteryBoxDice\n",
    "\n",
    "\n",
    "\n",
    "        // Declare new variable of type plant\n",
    "\n",
    "        public static plant createPlant ()\n",
    "            {\n",
    "                plant p = new plant ();\n",
    "        \n",
    "                return p;\n",
    "            } // END createPlant\n",
    "\n",
    "\n",
    "\n",
    "\n",
    "        // Set plant name by accessing name field\n",
    "\n",
    "        public static plant setPlantName (plant p, String n)\n",
    "            {\n",
    "                p.name = n;\n",
    "        \n",
    "                return p;\n",
    "            } // END setPlantName\n",
    "\n",
    "\n",
    "\n",
    "\n",
    "        // Set plant points by accessing points field\n",
    "\n",
    "        public static plant setPlantPoints (plant p, int i)\n",
    "            {\n",
    "                p.points = i;\n",
    "        \n",
    "                return p;\n",
    "            } // END setPlantPoints\n",
    "\n",
    "\n",
    "\n",
    "\n",
    "        // Retrieve value stored in name field\n",
    "\n",
    "        public static String getPlantName (plant p)\n",
    "            {\n",
    "                return p.name;\n",
    "            } // END getPlantName\n",
    "\n",
    "\n",
    "\n",
    "        // Retrieve value stored in points field\n",
    "\n",
    "        public static int getPlantPoints (plant p)\n",
    "            {\n",
    "                return p.points;\n",
    "            } // END getPlantPoints\n",
    "\n",
    "    \n",
    "\n",
    "\n",
    "        // Fill 3 plant records and update healing points\n",
    "\n",
    "        public static int plantInfo (int roll, int healing_points)\n",
    "            {\n",
    "                plant plant1 = createPlant();\n",
    "                plant plant2 = createPlant();\n",
    "                plant plant3 = createPlant();\n",
    "        \n",
    "                plant1 = plantRecords(plant1, \"chamomile\", 3);\n",
    "                plant2 = plantRecords(plant2, \"sage\", 4);\n",
    "                plant3 = plantRecords(plant3, \"yarrow\", 5);\n",
    "        \n",
    "                healing_points = getMysteryPlant(roll, plant1, healing_points, plant2, plant3);\n",
    "                \n",
    "                return healing_points;\n",
    "            } // END plantInfo\n",
    "\n",
    "\n",
    "\n",
    "\n",
    "        // Set name and points fields for each plant\n",
    "\n",
    "        public static plant plantRecords (plant p, String name, int points)\n",
    "            {\n",
    "                p = setPlantName(p, name);\n",
    "                p = setPlantPoints(p, points);\n",
    "        \n",
    "                return p;\n",
    "            } // END plantRecords\n",
    "\n",
    "\n",
    "\n",
    "\n",
    "        // Depending on dice roll result, increase healing points by certain amount\n",
    "\n",
    "        public static int getMysteryPlant (int roll, plant plant1, int healing_points, plant plant2, plant plant3)\n",
    "            {\n",
    "                if (roll <= 3)\n",
    "                {\n",
    "                    healing_points = updatePointsAfterMysteryBox(healing_points, plant1);\n",
    "                }\n",
    "        \n",
    "                else if (roll == 4 || roll == 5)\n",
    "                {\n",
    "                    healing_points = updatePointsAfterMysteryBox(healing_points, plant2);\n",
    "                }\n",
    "        \n",
    "                else\n",
    "                {\n",
    "                    healing_points = updatePointsAfterMysteryBox(healing_points, plant3);\n",
    "                }\n",
    "        \n",
    "                return healing_points;\n",
    "            } // END getMysteryPlant\n",
    "\n",
    "\n",
    "    \n",
    "\n",
    "        // Increase healing points and alert user to the plant they picked up\n",
    "        \n",
    "        public static int updatePointsAfterMysteryBox (int points, plant p)\n",
    "            {\n",
    "                points =  points + getPlantPoints(p);\n",
    "                print(\"You found some \" + getPlantName(p) + \"!\");\n",
    "                print(\"Your new healing points are \" + (points));\n",
    "        \n",
    "                return points;\n",
    "            } // END updatePointsAfterMysteryBox\n",
    "\n",
    "\n",
    "\n",
    "        // Store the messages in the file fav_creature.txt\n",
    "\n",
    "        public static void animalInput(String fantasy_animal, String name) throws IOException\n",
    "            {\n",
    "                PrintWriter favAnimalOutput = new PrintWriter(new FileWriter(\"fav_creature.txt\"));\n",
    "        \n",
    "                favAnimalOutput.println(\"\\nI love \" + fantasy_animal + \"s too!\");\n",
    "                favAnimalOutput.println(\"Surprise! Look ahead, \" + name + \"! There's some legendary \" + fantasy_animal\n",
    "                                       + \"s who want to congratulate you for healing the animals!\");\n",
    "        \n",
    "                favAnimalOutput.close();\n",
    "                return;\n",
    "            } // END animalInput\n",
    "\n",
    "\n",
    "    \n",
    "\n",
    "        // Print the messages stored in fav_creature.txt\n",
    "\n",
    "        public static void printFantasyCreatures () throws IOException\n",
    "            {\n",
    "                final int no_of_file_inputs = 3;\n",
    "        \n",
    "                BufferedReader printFavAnimalInput = new BufferedReader(new FileReader(\"fav_creature.txt\"));\n",
    "        \n",
    "                for(int i = 1; i <= no_of_file_inputs; i++)\n",
    "                    {\n",
    "                        String mythical_creature = printFavAnimalInput.readLine();\n",
    "                        print(mythical_creature);\n",
    "                    }\n",
    "        \n",
    "                printFavAnimalInput.close();\n",
    "        \n",
    "                return;\n",
    "            } // END printFantasyCreatures\n",
    "\n",
    "\n",
    "    \n",
    "\n",
    "        // This method prints the forest game's rules and asks for the user's name \n",
    "\n",
    "        // After healing a deer, the healing points reduce from 20 to 18\n",
    "        \n",
    "        // The user rolls a dice - if the result >= 3, the user is told they are\n",
    "        // going to the river else they go to the meadow\n",
    "        \n",
    "        // The user rolls a dice again, if they get a 6, their points increase else\n",
    "        // they stay the same\n",
    "        \n",
    "        // The user plays 5 rounds and rolls a random dice 3 times per round\n",
    "        // If the sum of the dice rolls is 10 or more, the animal is healed and \n",
    "        // points reduce by 2 else the animal is not healed and points stay the \n",
    "        // same\n",
    "        \n",
    "        // The user then encounters a mystery box and rolls a dice \n",
    "        // According to the dice roll, the user gets a plant which increases\n",
    "        // their healing points\n",
    "        \n",
    "        // The user then inputs their favourite mythical creature\n",
    "        // A message is printed using their name and favourite creature\n",
    "        \n",
    "        public static void ForestGameLevel8 () throws IOException\n",
    "        {\n",
    "             String name = \"\";\n",
    "             int healing_points = 20;\n",
    "             String place = \"\";\n",
    "             int dice_roll = 0;\n",
    "             String [] animal_list = {\"squirrel\", \"robin\", \"owl\", \"hedgehog\", \"rabbit\"};\n",
    "        \n",
    "             final int lavender_points = 3;\n",
    "             final int success_dice_roll = 6;\n",
    "             boolean success_get_plant = true;\n",
    "            \n",
    "             rules();\n",
    "             name = healerName();\n",
    "            \n",
    "             healing_points = HealingPointsReduced(healing_points);\n",
    "            \n",
    "             roll_dice_to_change_place_message(name);\n",
    "             place = changePlace();\n",
    "            \n",
    "             get_lavender_message(place, healing_points, lavender_points);\n",
    "             success_get_plant = get_lavender(success_dice_roll, success_get_plant);\n",
    "             healing_points = healing_point_update(success_get_plant, healing_points, lavender_points);\n",
    "        \n",
    "             printRounds();\n",
    "             healing_points = heal_animals_round(animal_list, healing_points);\n",
    "        \n",
    "             dice_roll = rollMysteryBoxDice();\n",
    "             healing_points = plantInfo(dice_roll, healing_points);\n",
    "        \n",
    "             String fantasy_animal = user_string_input(\"\\nWhat is your favourite mythical creature?\");\n",
    "             animalInput(fantasy_animal, name);\n",
    "             printFantasyCreatures();\n",
    "             \n",
    "             return;\n",
    "            \n",
    "        } // END ForestGameLevel8\n",
    "    \n",
    "    } // END class HealingGame\n"
   ]
  },
  {
   "cell_type": "code",
   "execution_count": 2,
   "metadata": {
    "vscode": {
     "languageId": "java"
    }
   },
   "outputs": [
    {
     "name": "stdout",
     "output_type": "stream",
     "text": [
      "Welcome to the Evergreen Forest!\n",
      "\n",
      "Rules:\n",
      "- Whenever you see a wounded animal, check its health status\n",
      "- You can only heal animals according to the number of healing points you have\n",
      "- As you collect more plants, your points increase\n",
      "- As you gain more points, you can treat more animals with more severe injuries\n",
      "\n",
      "What is your name?\n"
     ]
    },
    {
     "name": "stdout",
     "output_type": "stream",
     "text": [
      " Aafreen\n"
     ]
    },
    {
     "name": "stdout",
     "output_type": "stream",
     "text": [
      "\n",
      "Thank goodness you're here, Aafreen!\n",
      "You have to heal the injured deer nearby!\n",
      "\n",
      "You healed the deer so now your points have reduced from 20 to 18.\n",
      "\n",
      "Now go ahead and roll the 6-sided dice, Aafreen!\n",
      "If you roll a number greater than or equal to 3, you will head to the river else you will go to the meadow\n",
      "You rolled a 5\n",
      "You're going to the river!\n",
      "\n",
      "Look! There's some lavender near the river\n",
      "You have 18 healing points currently\n",
      "Roll the 6-sided dice up to 3 times - if you get a 6, you can increase your healing points by 3!\n",
      "\n",
      "Dice roll result: 1\n",
      "Dice roll result: 2\n",
      "Dice roll result: 3\n",
      "You didn't roll a 6 so you didn't get the lavender.\n",
      "Your healing points remain the same.\n",
      "\n",
      "You will now go through 5 rounds to try to heal the animals near you!\n",
      "Roll the dice 3 times per round.\n",
      "If the sum of the dice roll results is 10 or above, you successfully heal the animal but your healing points decrease by 2.\n",
      "If the sum is less than 10, your points stay the same. \n",
      "\n",
      "ROUND 1: Can you heal the squirrel?\n",
      "You rolled a 2\n",
      "You rolled a 3\n",
      "You rolled a 2\n",
      "The sum of the dice roll results is 7\n",
      "You didn't heal successfully it.\n",
      "You still have 18 healing points. \n",
      "\n",
      "ROUND 2: Can you heal the robin?\n",
      "You rolled a 5\n",
      "You rolled a 3\n",
      "You rolled a 2\n",
      "The sum of the dice roll results is 10\n",
      "You successfully healed it!\n",
      "You now have 16 healing points. \n",
      "\n",
      "ROUND 3: Can you heal the owl?\n",
      "You rolled a 2\n",
      "You rolled a 4\n",
      "You rolled a 5\n",
      "The sum of the dice roll results is 11\n",
      "You successfully healed it!\n",
      "You now have 14 healing points. \n",
      "\n",
      "ROUND 4: Can you heal the hedgehog?\n",
      "You rolled a 4\n",
      "You rolled a 4\n",
      "You rolled a 3\n",
      "The sum of the dice roll results is 11\n",
      "You successfully healed it!\n",
      "You now have 12 healing points. \n",
      "\n",
      "ROUND 5: Can you heal the rabbit?\n",
      "You rolled a 3\n",
      "You rolled a 3\n",
      "You rolled a 6\n",
      "The sum of the dice roll results is 12\n",
      "You successfully healed it!\n",
      "You now have 10 healing points. \n",
      "\n",
      "Lucky you! You found a mystery box!\n",
      "Roll a dice to see which healing plant you get!\n",
      "You found some sage!\n",
      "Your new healing points are 14\n",
      "\n",
      "What is your favourite mythical creature?\n"
     ]
    },
    {
     "name": "stdout",
     "output_type": "stream",
     "text": [
      " dragon\n"
     ]
    },
    {
     "name": "stdout",
     "output_type": "stream",
     "text": [
      "\n",
      "I love dragons too!\n",
      "Surprise! Look ahead, Aafreen! There's some legendary dragons who want to congratulate you for healing the animals!\n"
     ]
    }
   ],
   "source": [
    "HealingGame.main(null);"
   ]
  },
  {
   "cell_type": "markdown",
   "metadata": {},
   "source": [
    "**END OF LITERATE DOCUMENT**"
   ]
  }
 ],
 "metadata": {
  "kernelspec": {
   "display_name": "Java",
   "language": "java",
   "name": "java"
  },
  "language_info": {
   "codemirror_mode": "java",
   "file_extension": ".jshell",
   "mimetype": "text/x-java-source",
   "name": "Java",
   "pygments_lexer": "java",
   "version": "11.0.8+10-LTS"
  }
 },
 "nbformat": 4,
 "nbformat_minor": 4
}
